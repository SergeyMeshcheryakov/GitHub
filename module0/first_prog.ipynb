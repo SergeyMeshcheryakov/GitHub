{
 "cells": [
  {
   "cell_type": "code",
   "execution_count": null,
   "metadata": {},
   "outputs": [],
   "source": [
    "import numpy as np\n",
    "def game_core(number):\n",
    "    '''Метод деления пополам. Определяется значение середины исследуемого диапазона. \n",
    "       Сравнивается с загаданным числом. Если число меньше значения середины, \n",
    "       то поиск осуществляется в первой половине элементов, иначе — во второй.\n",
    "       Процесс деления продолжается до совпадения загаданного числа с серединой диапазона или до пустого диапазона'''\n",
    "    count = 1\n",
    "    start_point = 1\n",
    "    end_point = 100\n",
    "    mid_point = (start_point + end_point)//2\n",
    "    while number != mid_point:\n",
    "        count += 1\n",
    "        if number > mid_point: \n",
    "            start_point = mid_point + 1\n",
    "        else: \n",
    "            end_point = mid_point - 1\n",
    "        mid_point = (start_point + end_point)//2\n",
    "    return (count)\n",
    "\n",
    "\n",
    "def score_game(game_core):\n",
    "    '''Запускаем игру 1000 раз, чтобы узнать, как быстро игра угадывает число'''\n",
    "    count_ls = []\n",
    "    np.random.seed(1)  # фиксируем RANDOM SEED, чтобы ваш эксперимент был воспроизводим!\n",
    "    random_array = np.random.randint(1,101, size=(1000))\n",
    "    for number in random_array:\n",
    "        count_ls.append(game_core(number))\n",
    "    score = int(np.mean(count_ls))\n",
    "    return(score)\n",
    "\n",
    "\n",
    "print(f\"Ваш алгоритм угадывает число в среднем за {score_game(game_core)} попыток\")"
   ]
  }
 ],
 "metadata": {
  "kernelspec": {
   "display_name": "Python 3",
   "language": "python",
   "name": "python3"
  },
  "language_info": {
   "codemirror_mode": {
    "name": "ipython",
    "version": 3
   },
   "file_extension": ".py",
   "mimetype": "text/x-python",
   "name": "python",
   "nbconvert_exporter": "python",
   "pygments_lexer": "ipython3",
   "version": "3.7.6"
  }
 },
 "nbformat": 4,
 "nbformat_minor": 4
}
