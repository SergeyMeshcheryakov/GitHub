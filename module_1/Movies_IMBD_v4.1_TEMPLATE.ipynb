{
 "cells": [
  {
   "cell_type": "code",
   "execution_count": 4,
   "metadata": {
    "_cell_guid": "b1076dfc-b9ad-4769-8c92-a6c4dae69d19",
    "_uuid": "8f2839f25d086af736a60e9eeb907d3b93b6e0e5",
    "colab": {},
    "colab_type": "code",
    "id": "U2D2gTdJVp90"
   },
   "outputs": [],
   "source": [
    "import numpy as np\n",
    "import pandas as pd\n",
    "import seaborn as sns\n",
    "import matplotlib.pyplot as plt\n",
    "from collections import Counter"
   ]
  },
  {
   "cell_type": "code",
   "execution_count": 4,
   "metadata": {
    "_cell_guid": "79c7e3d0-c299-4dcb-8224-4455121ee9b0",
    "_uuid": "d629ff2d2480ee46fbb7e2d37f6b5fab8052498a",
    "colab": {},
    "colab_type": "code",
    "id": "oyGfxL3eVp9-"
   },
   "outputs": [
    {
     "data": {
      "text/html": [
       "<div>\n",
       "<style scoped>\n",
       "    .dataframe tbody tr th:only-of-type {\n",
       "        vertical-align: middle;\n",
       "    }\n",
       "\n",
       "    .dataframe tbody tr th {\n",
       "        vertical-align: top;\n",
       "    }\n",
       "\n",
       "    .dataframe thead th {\n",
       "        text-align: right;\n",
       "    }\n",
       "</style>\n",
       "<table border=\"1\" class=\"dataframe\">\n",
       "  <thead>\n",
       "    <tr style=\"text-align: right;\">\n",
       "      <th></th>\n",
       "      <th>imdb_id</th>\n",
       "      <th>budget</th>\n",
       "      <th>revenue</th>\n",
       "      <th>original_title</th>\n",
       "      <th>cast</th>\n",
       "      <th>director</th>\n",
       "      <th>tagline</th>\n",
       "      <th>overview</th>\n",
       "      <th>runtime</th>\n",
       "      <th>genres</th>\n",
       "      <th>production_companies</th>\n",
       "      <th>release_date</th>\n",
       "      <th>vote_average</th>\n",
       "      <th>release_year</th>\n",
       "    </tr>\n",
       "  </thead>\n",
       "  <tbody>\n",
       "    <tr>\n",
       "      <th>1350</th>\n",
       "      <td>tt0398375</td>\n",
       "      <td>70000000</td>\n",
       "      <td>88933562</td>\n",
       "      <td>Rumor Has It...</td>\n",
       "      <td>Jennifer Aniston|Kevin Costner|Shirley MacLain...</td>\n",
       "      <td>Rob Reiner</td>\n",
       "      <td>Based on a true rumor.</td>\n",
       "      <td>Sarah Huttinger's return home with her fiance ...</td>\n",
       "      <td>97</td>\n",
       "      <td>Comedy</td>\n",
       "      <td>Village Roadshow Pictures|Section Eight|Spring...</td>\n",
       "      <td>12/23/2005</td>\n",
       "      <td>5.2</td>\n",
       "      <td>2005</td>\n",
       "    </tr>\n",
       "    <tr>\n",
       "      <th>808</th>\n",
       "      <td>tt1262416</td>\n",
       "      <td>40000000</td>\n",
       "      <td>97138686</td>\n",
       "      <td>Scream 4</td>\n",
       "      <td>David Arquette|Neve Campbell|Courteney Cox|Emm...</td>\n",
       "      <td>Wes Craven</td>\n",
       "      <td>New Decade. New Rules.</td>\n",
       "      <td>Sidney Prescott, now the author of a self-help...</td>\n",
       "      <td>111</td>\n",
       "      <td>Horror|Mystery</td>\n",
       "      <td>Dimension Films</td>\n",
       "      <td>4/11/2011</td>\n",
       "      <td>6.0</td>\n",
       "      <td>2011</td>\n",
       "    </tr>\n",
       "    <tr>\n",
       "      <th>89</th>\n",
       "      <td>tt1850457</td>\n",
       "      <td>30000000</td>\n",
       "      <td>105011053</td>\n",
       "      <td>Sisters</td>\n",
       "      <td>Tina Fey|Amy Poehler|John Leguizamo|Ike Barinh...</td>\n",
       "      <td>Jason Moore</td>\n",
       "      <td>Big sisters don't always know best.</td>\n",
       "      <td>Two disconnected sisters are summoned to clean...</td>\n",
       "      <td>118</td>\n",
       "      <td>Comedy</td>\n",
       "      <td>Little Stranger</td>\n",
       "      <td>12/18/2015</td>\n",
       "      <td>5.9</td>\n",
       "      <td>2015</td>\n",
       "    </tr>\n",
       "    <tr>\n",
       "      <th>1688</th>\n",
       "      <td>tt0469494</td>\n",
       "      <td>25000000</td>\n",
       "      <td>76181545</td>\n",
       "      <td>There Will Be Blood</td>\n",
       "      <td>Daniel Day-Lewis|Paul Dano|Dillon Freasier|Cia...</td>\n",
       "      <td>Paul Thomas Anderson</td>\n",
       "      <td>There Will Be Greed. There Will Be Vengeance.</td>\n",
       "      <td>When ruthless oil prospector, Daniel Plainview...</td>\n",
       "      <td>158</td>\n",
       "      <td>Drama</td>\n",
       "      <td>Miramax Films|Ghoulardi Film Company|Paramount...</td>\n",
       "      <td>12/28/2007</td>\n",
       "      <td>7.8</td>\n",
       "      <td>2007</td>\n",
       "    </tr>\n",
       "    <tr>\n",
       "      <th>289</th>\n",
       "      <td>tt1352824</td>\n",
       "      <td>15000000</td>\n",
       "      <td>8459458</td>\n",
       "      <td>Chloe</td>\n",
       "      <td>Julianne Moore|Liam Neeson|Amanda Seyfried|Max...</td>\n",
       "      <td>Atom Egoyan</td>\n",
       "      <td>If the one you love was lying to you, how far ...</td>\n",
       "      <td>A doctor hires an escort to seduce her husband...</td>\n",
       "      <td>96</td>\n",
       "      <td>Drama|Thriller|Mystery</td>\n",
       "      <td>StudioCanal|Montecito Picture Company, The|Out...</td>\n",
       "      <td>3/25/2009</td>\n",
       "      <td>5.9</td>\n",
       "      <td>2009</td>\n",
       "    </tr>\n",
       "  </tbody>\n",
       "</table>\n",
       "</div>"
      ],
      "text/plain": [
       "        imdb_id    budget    revenue       original_title  \\\n",
       "1350  tt0398375  70000000   88933562      Rumor Has It...   \n",
       "808   tt1262416  40000000   97138686             Scream 4   \n",
       "89    tt1850457  30000000  105011053              Sisters   \n",
       "1688  tt0469494  25000000   76181545  There Will Be Blood   \n",
       "289   tt1352824  15000000    8459458                Chloe   \n",
       "\n",
       "                                                   cast              director  \\\n",
       "1350  Jennifer Aniston|Kevin Costner|Shirley MacLain...            Rob Reiner   \n",
       "808   David Arquette|Neve Campbell|Courteney Cox|Emm...            Wes Craven   \n",
       "89    Tina Fey|Amy Poehler|John Leguizamo|Ike Barinh...           Jason Moore   \n",
       "1688  Daniel Day-Lewis|Paul Dano|Dillon Freasier|Cia...  Paul Thomas Anderson   \n",
       "289   Julianne Moore|Liam Neeson|Amanda Seyfried|Max...           Atom Egoyan   \n",
       "\n",
       "                                                tagline  \\\n",
       "1350                             Based on a true rumor.   \n",
       "808                              New Decade. New Rules.   \n",
       "89                  Big sisters don't always know best.   \n",
       "1688      There Will Be Greed. There Will Be Vengeance.   \n",
       "289   If the one you love was lying to you, how far ...   \n",
       "\n",
       "                                               overview  runtime  \\\n",
       "1350  Sarah Huttinger's return home with her fiance ...       97   \n",
       "808   Sidney Prescott, now the author of a self-help...      111   \n",
       "89    Two disconnected sisters are summoned to clean...      118   \n",
       "1688  When ruthless oil prospector, Daniel Plainview...      158   \n",
       "289   A doctor hires an escort to seduce her husband...       96   \n",
       "\n",
       "                      genres  \\\n",
       "1350                  Comedy   \n",
       "808           Horror|Mystery   \n",
       "89                    Comedy   \n",
       "1688                   Drama   \n",
       "289   Drama|Thriller|Mystery   \n",
       "\n",
       "                                   production_companies release_date  \\\n",
       "1350  Village Roadshow Pictures|Section Eight|Spring...   12/23/2005   \n",
       "808                                     Dimension Films    4/11/2011   \n",
       "89                                      Little Stranger   12/18/2015   \n",
       "1688  Miramax Films|Ghoulardi Film Company|Paramount...   12/28/2007   \n",
       "289   StudioCanal|Montecito Picture Company, The|Out...    3/25/2009   \n",
       "\n",
       "      vote_average  release_year  \n",
       "1350           5.2          2005  \n",
       "808            6.0          2011  \n",
       "89             5.9          2015  \n",
       "1688           7.8          2007  \n",
       "289            5.9          2009  "
      ]
     },
     "execution_count": 4,
     "metadata": {},
     "output_type": "execute_result"
    }
   ],
   "source": [
    "data = pd.read_csv('movie_bd_v5.csv')\n",
    "data.sample(5)"
   ]
  },
  {
   "cell_type": "code",
   "execution_count": 0,
   "metadata": {
    "colab": {},
    "colab_type": "code",
    "id": "CoYUnagMVp-C"
   },
   "outputs": [],
   "source": [
    "data.describe()"
   ]
  },
  {
   "cell_type": "markdown",
   "metadata": {
    "colab_type": "text",
    "id": "DTIt7ezGVp-G"
   },
   "source": [
    "# Предобработка"
   ]
  },
  {
   "cell_type": "code",
   "execution_count": 24,
   "metadata": {
    "colab": {},
    "colab_type": "code",
    "id": "jNb40DwKVp-H"
   },
   "outputs": [],
   "source": [
    "answers = {} # создадим словарь для ответов\n",
    "\n",
    "# тут другие ваши предобработки колонок например:\n",
    "\n",
    "#the time given in the dataset is in string format.\n",
    "#So we need to change this in datetime format\n",
    "# ...\n"
   ]
  },
  {
   "cell_type": "markdown",
   "metadata": {
    "colab_type": "text",
    "id": "YxZaH-nPVp-L"
   },
   "source": [
    "# 1. У какого фильма из списка самый большой бюджет?"
   ]
  },
  {
   "cell_type": "markdown",
   "metadata": {
    "colab_type": "text",
    "id": "Nd-G5gX6Vp-M"
   },
   "source": [
    "Использовать варианты ответов в коде решения запрещено.    \n",
    "Вы думаете и в жизни у вас будут варианты ответов?)"
   ]
  },
  {
   "cell_type": "code",
   "execution_count": 0,
   "metadata": {
    "colab": {},
    "colab_type": "code",
    "id": "uVnXAY5RVp-O"
   },
   "outputs": [],
   "source": [
    "# в словарь вставляем номер вопроса и ваш ответ на него\n",
    "# Пример: \n",
    "# answers['1'] = '2. Spider-Man 3 (tt0413300)'\n",
    "# запишите свой вариант ответа\n",
    "\n",
    "# если ответили верно, можете добавить комментарий со значком \"+\""
   ]
  },
  {
   "cell_type": "code",
   "execution_count": 48,
   "metadata": {
    "colab": {},
    "colab_type": "code",
    "id": "dZwb3m28Vp-S"
   },
   "outputs": [
    {
     "data": {
      "text/plain": [
       "'Pirates of the Caribbean: On Stranger Tides'"
      ]
     },
     "metadata": {},
     "output_type": "display_data"
    }
   ],
   "source": [
    "answers['1'] = 'Pirates of the Caribbean: On Stranger Tides (tt1298650)'\n",
    "# +\n",
    "data = pd.read_csv('movie_bd_v5.csv')\n",
    "title = data[data.budget == data.budget.max()].original_title\n",
    "display(title[title.index[0]])"
   ]
  },
  {
   "cell_type": "markdown",
   "metadata": {
    "colab_type": "text",
    "id": "K7L3nbRXVp-X"
   },
   "source": [
    "ВАРИАНТ 2"
   ]
  },
  {
   "cell_type": "code",
   "execution_count": 0,
   "metadata": {
    "colab": {},
    "colab_type": "code",
    "id": "OGaoQI7rVp-X"
   },
   "outputs": [],
   "source": [
    "# можно добавлять разные варианты решения"
   ]
  },
  {
   "cell_type": "markdown",
   "metadata": {
    "colab_type": "text",
    "id": "FNRbbI3vVp-c"
   },
   "source": [
    "# 2. Какой из фильмов самый длительный (в минутах)?"
   ]
  },
  {
   "cell_type": "code",
   "execution_count": 49,
   "metadata": {
    "colab": {},
    "colab_type": "code",
    "id": "vHAoEXNTVp-d"
   },
   "outputs": [
    {
     "data": {
      "text/plain": [
       "'Gods and Generals'"
      ]
     },
     "metadata": {},
     "output_type": "display_data"
    }
   ],
   "source": [
    "# думаю логику работы с этим словарем вы уже поняли,\n",
    "# по этому не буду больше его дублировать\n",
    "answers['2'] = 'Gods and Generals (tt0279111)'\n",
    "# +\n",
    "data = pd.read_csv('movie_bd_v5.csv')\n",
    "runtime = data[data.runtime == data.runtime.max()].original_title\n",
    "display(runtime[runtime.index[0]])"
   ]
  },
  {
   "cell_type": "markdown",
   "metadata": {
    "colab_type": "text",
    "id": "bapLlpW8Vp-k"
   },
   "source": [
    "# 3. Какой из фильмов самый короткий (в минутах)?\n",
    "\n",
    "\n",
    "\n"
   ]
  },
  {
   "cell_type": "code",
   "execution_count": 50,
   "metadata": {
    "colab": {},
    "colab_type": "code",
    "id": "YBxaSHuAVp-l"
   },
   "outputs": [
    {
     "data": {
      "text/plain": [
       "'Winnie the Pooh'"
      ]
     },
     "metadata": {},
     "output_type": "display_data"
    }
   ],
   "source": [
    "answers['3'] = 'Winnie the Pooh (tt1449283)'\n",
    "# +\n",
    "data = pd.read_csv('movie_bd_v5.csv')\n",
    "runtime = data[data.runtime == data.runtime.min()].original_title\n",
    "display(runtime[runtime.index[0]])"
   ]
  },
  {
   "cell_type": "markdown",
   "metadata": {
    "colab_type": "text",
    "id": "TfQbxbfNVp-p"
   },
   "source": [
    "# 4. Какова средняя длительность фильмов?\n"
   ]
  },
  {
   "cell_type": "code",
   "execution_count": 51,
   "metadata": {
    "colab": {},
    "colab_type": "code",
    "id": "5K6dKZYVVp-q"
   },
   "outputs": [
    {
     "data": {
      "text/plain": [
       "110"
      ]
     },
     "execution_count": 51,
     "metadata": {},
     "output_type": "execute_result"
    }
   ],
   "source": [
    "answers['4'] = '110'\n",
    "# +\n",
    "data = pd.read_csv('movie_bd_v5.csv')\n",
    "round(data.runtime.mean())"
   ]
  },
  {
   "cell_type": "markdown",
   "metadata": {
    "colab_type": "text",
    "id": "r5TvbnT_Vp-u"
   },
   "source": [
    "# 5. Каково медианное значение длительности фильмов? "
   ]
  },
  {
   "cell_type": "code",
   "execution_count": 52,
   "metadata": {
    "colab": {},
    "colab_type": "code",
    "id": "iBROplKnVp-v"
   },
   "outputs": [
    {
     "data": {
      "text/plain": [
       "107"
      ]
     },
     "execution_count": 52,
     "metadata": {},
     "output_type": "execute_result"
    }
   ],
   "source": [
    "answers['5'] = '107'\n",
    "# +\n",
    "data = pd.read_csv('movie_bd_v5.csv')\n",
    "round(data.runtime.median())"
   ]
  },
  {
   "cell_type": "markdown",
   "metadata": {
    "colab_type": "text",
    "id": "39P-deDSVp-y"
   },
   "source": [
    "# 6. Какой самый прибыльный фильм?\n",
    "#### Внимание! Здесь и далее под «прибылью» или «убытками» понимается разность между сборами и бюджетом фильма. (прибыль = сборы - бюджет) в нашем датасете это будет (profit = revenue - budget) "
   ]
  },
  {
   "cell_type": "code",
   "execution_count": 53,
   "metadata": {
    "colab": {},
    "colab_type": "code",
    "id": "UYZh4T9WVp-y"
   },
   "outputs": [
    {
     "data": {
      "text/plain": [
       "'Avatar'"
      ]
     },
     "metadata": {},
     "output_type": "display_data"
    }
   ],
   "source": [
    "answers['6'] = 'Avatar (tt0499549)'\n",
    "data = pd.read_csv('movie_bd_v5.csv')\n",
    "data['profit'] = data['revenue']-data['budget']\n",
    "profit_max = data[data.profit == data.profit.max()].original_title\n",
    "display(profit_max[profit_max.index[0]])"
   ]
  },
  {
   "cell_type": "markdown",
   "metadata": {
    "colab_type": "text",
    "id": "M99JmIX4Vp-2"
   },
   "source": [
    "# 7. Какой фильм самый убыточный? "
   ]
  },
  {
   "cell_type": "code",
   "execution_count": 54,
   "metadata": {
    "colab": {},
    "colab_type": "code",
    "id": "w-D2m4XPVp-3"
   },
   "outputs": [
    {
     "data": {
      "text/plain": [
       "'The Lone Ranger'"
      ]
     },
     "metadata": {},
     "output_type": "display_data"
    }
   ],
   "source": [
    "answers['7'] = 'The Lone Ranger (tt1210819)'\n",
    "# +\n",
    "data = pd.read_csv('movie_bd_v5.csv')\n",
    "data['profit'] = data['revenue']-data['budget']\n",
    "profit_min = data[data.profit == data.profit.min()].original_title\n",
    "display(profit_min[profit_min.index[0]])"
   ]
  },
  {
   "cell_type": "markdown",
   "metadata": {
    "colab_type": "text",
    "id": "wEOM5ERVVp-6"
   },
   "source": [
    "# 8. У скольких фильмов из датасета объем сборов оказался выше бюджета?"
   ]
  },
  {
   "cell_type": "code",
   "execution_count": 55,
   "metadata": {
    "colab": {},
    "colab_type": "code",
    "id": "y00_7HD6Vp-7"
   },
   "outputs": [
    {
     "data": {
      "text/plain": [
       "1478"
      ]
     },
     "metadata": {},
     "output_type": "display_data"
    }
   ],
   "source": [
    "answers['8'] = '1478'\n",
    "# +\n",
    "data = pd.read_csv('movie_bd_v5.csv')\n",
    "data['profit'] = data['revenue']-data['budget']\n",
    "profit_films = data[data.profit > 0].original_title.count()\n",
    "display(profit_films)"
   ]
  },
  {
   "cell_type": "markdown",
   "metadata": {
    "colab_type": "text",
    "id": "xhpspA9KVp_A"
   },
   "source": [
    "# 9. Какой фильм оказался самым кассовым в 2008 году?"
   ]
  },
  {
   "cell_type": "code",
   "execution_count": 56,
   "metadata": {
    "colab": {},
    "colab_type": "code",
    "id": "MoUyQr9RVp_B"
   },
   "outputs": [
    {
     "data": {
      "text/plain": [
       "'The Dark Knight'"
      ]
     },
     "metadata": {},
     "output_type": "display_data"
    }
   ],
   "source": [
    "answers['9'] = 'The Dark Knight (tt0468569)'\n",
    "# +\n",
    "data = pd.read_csv('movie_bd_v5.csv')\n",
    "data['profit'] = data['revenue']-data['budget']\n",
    "profit_2008 = data[data.release_year == 2008]\n",
    "film = profit_2008[profit_2008.revenue == profit_2008.revenue.max()]\n",
    "display(film.original_title[film.original_title.index[0]])"
   ]
  },
  {
   "cell_type": "markdown",
   "metadata": {
    "colab_type": "text",
    "id": "Zi4hDKidVp_F"
   },
   "source": [
    "# 10. Самый убыточный фильм за период с 2012 по 2014 г. (включительно)?\n"
   ]
  },
  {
   "cell_type": "code",
   "execution_count": 57,
   "metadata": {
    "colab": {},
    "colab_type": "code",
    "id": "XqyRmufJVp_F"
   },
   "outputs": [
    {
     "data": {
      "text/plain": [
       "'The Lone Ranger'"
      ]
     },
     "metadata": {},
     "output_type": "display_data"
    }
   ],
   "source": [
    "answers['10'] = 'The Lone Ranger (tt1210819)'\n",
    "# +\n",
    "data = pd.read_csv('movie_bd_v5.csv')\n",
    "data['profit'] = data['revenue']-data['budget']\n",
    "loss_2012 = data[(data.release_year >= 2012) & (data.release_year <= 2014)]\n",
    "film = loss_2012[loss_2012.profit == loss_2012.profit.min()]\n",
    "display(film.original_title[film.original_title.index[0]])"
   ]
  },
  {
   "cell_type": "markdown",
   "metadata": {
    "colab_type": "text",
    "id": "EA7Sa9dkVp_I"
   },
   "source": [
    "# 11. Какого жанра фильмов больше всего?"
   ]
  },
  {
   "cell_type": "code",
   "execution_count": 58,
   "metadata": {
    "colab": {},
    "colab_type": "code",
    "id": "zsJAwJ8QVp_J"
   },
   "outputs": [
    {
     "data": {
      "text/plain": [
       "[('Drama', 782),\n",
       " ('Comedy', 683),\n",
       " ('Thriller', 595),\n",
       " ('Action', 582),\n",
       " ('Adventure', 415)]"
      ]
     },
     "execution_count": 58,
     "metadata": {},
     "output_type": "execute_result"
    }
   ],
   "source": [
    "answers['11'] = 'Drama'\n",
    "#\n",
    "data = pd.read_csv('movie_bd_v5.csv')\n",
    "c = Counter()\n",
    "data['genres'] = data['genres'].apply(lambda x: x.split('|'))\n",
    "for x in range(data.shape[0]-1):\n",
    "    for y in data.genres.iloc[x]:\n",
    "        c[y] += 1\n",
    "c.most_common(5)"
   ]
  },
  {
   "cell_type": "markdown",
   "metadata": {
    "colab_type": "text",
    "id": "Ax6g2C8SVp_M"
   },
   "source": [
    "ВАРИАНТ 2"
   ]
  },
  {
   "cell_type": "code",
   "execution_count": 0,
   "metadata": {
    "colab": {},
    "colab_type": "code",
    "id": "otO3SbrSVp_N"
   },
   "outputs": [],
   "source": []
  },
  {
   "cell_type": "markdown",
   "metadata": {
    "colab_type": "text",
    "id": "T9_bPWpkVp_Q"
   },
   "source": [
    "# 12. Фильмы какого жанра чаще всего становятся прибыльными? "
   ]
  },
  {
   "cell_type": "code",
   "execution_count": 59,
   "metadata": {
    "colab": {},
    "colab_type": "code",
    "id": "Tmt8MaK1Vp_R"
   },
   "outputs": [
    {
     "data": {
      "text/plain": [
       "[('Drama', 560),\n",
       " ('Comedy', 551),\n",
       " ('Thriller', 446),\n",
       " ('Action', 444),\n",
       " ('Adventure', 337)]"
      ]
     },
     "execution_count": 59,
     "metadata": {},
     "output_type": "execute_result"
    }
   ],
   "source": [
    "answers['12'] = 'Drama'\n",
    "# +\n",
    "data = pd.read_csv('movie_bd_v5.csv')\n",
    "data['profit'] = data['revenue']-data['budget']\n",
    "c = Counter()\n",
    "data['genres'] = data['genres'].apply(lambda x: x.split('|'))\n",
    "profit_film = data[data.profit > 0]\n",
    "for x in range(len(profit_film.index)):\n",
    "    for y in profit_film.genres.iloc[x]:\n",
    "        c[y] += 1\n",
    "c.most_common(5)"
   ]
  },
  {
   "cell_type": "markdown",
   "metadata": {
    "colab_type": "text",
    "id": "0F23bgsDVp_U"
   },
   "source": [
    "# 13. У какого режиссера самые большие суммарные кассовые сбооры?"
   ]
  },
  {
   "cell_type": "code",
   "execution_count": 60,
   "metadata": {
    "colab": {},
    "colab_type": "code",
    "id": "K6Z3J8ygVp_X"
   },
   "outputs": [
    {
     "data": {
      "text/plain": [
       "'Peter Jackson'"
      ]
     },
     "execution_count": 60,
     "metadata": {},
     "output_type": "execute_result"
    }
   ],
   "source": [
    "answers['13'] = 'Peter Jackson'\n",
    "# +\n",
    "data = pd.read_csv('movie_bd_v5.csv')\n",
    "data['profit'] = data['revenue']-data['budget']\n",
    "director_max = data.groupby('director').revenue.sum()\n",
    "director_max[director_max == director_max.max()].index[0]"
   ]
  },
  {
   "cell_type": "markdown",
   "metadata": {
    "colab_type": "text",
    "id": "PsYC9FgRVp_a"
   },
   "source": [
    "# 14. Какой режисер снял больше всего фильмов в стиле Action?"
   ]
  },
  {
   "cell_type": "code",
   "execution_count": 61,
   "metadata": {
    "colab": {},
    "colab_type": "code",
    "id": "wd2M-wHeVp_b"
   },
   "outputs": [
    {
     "data": {
      "text/plain": [
       "[('Robert Rodriguez', 9),\n",
       " ('Michael Bay', 7),\n",
       " ('Paul W.S. Anderson', 7),\n",
       " ('Antoine Fuqua', 6),\n",
       " ('Ridley Scott', 6)]"
      ]
     },
     "metadata": {},
     "output_type": "display_data"
    }
   ],
   "source": [
    "answers['14'] = 'Robert Rodriguez'\n",
    "# +\n",
    "data = pd.read_csv('movie_bd_v5.csv')\n",
    "data['profit'] = data['revenue']-data['budget']\n",
    "c = Counter()\n",
    "director_action = data[data.genres.str.contains('Action', na=False)]\n",
    "for i in director_action['director'].str.cat(sep='|').split('|'):\n",
    "    c[i] += 1\n",
    "display(c.most_common(5))"
   ]
  },
  {
   "cell_type": "markdown",
   "metadata": {
    "colab_type": "text",
    "id": "PQ0KciD7Vp_f"
   },
   "source": [
    "# 15. Фильмы с каким актером принесли самые высокие кассовые сборы в 2012 году? "
   ]
  },
  {
   "cell_type": "code",
   "execution_count": 62,
   "metadata": {
    "colab": {},
    "colab_type": "code",
    "id": "aga62oeKVp_g"
   },
   "outputs": [
    {
     "data": {
      "text/plain": [
       "[('Chris Hemsworth', 2)]"
      ]
     },
     "metadata": {},
     "output_type": "display_data"
    }
   ],
   "source": [
    "answers['15'] = 'Chris Hemsworth'\n",
    "# +\n",
    "c = Counter()\n",
    "data = pd.read_csv('movie_bd_v5.csv')\n",
    "movie_2012 = data[(data.release_year == 2012)]\n",
    "actor = movie_2012[movie_2012.revenue > movie_2012.revenue.mean()]\n",
    "for i in actor['cast'].str.cat(sep='|').split('|'):\n",
    "    c[i] += 1\n",
    "display(c.most_common(1))"
   ]
  },
  {
   "cell_type": "markdown",
   "metadata": {
    "colab_type": "text",
    "id": "mWHyyL7QVp_j"
   },
   "source": [
    "# 16. Какой актер снялся в большем количестве высокобюджетных фильмов?"
   ]
  },
  {
   "cell_type": "code",
   "execution_count": 63,
   "metadata": {
    "colab": {},
    "colab_type": "code",
    "id": "qQtmHKTFVp_k"
   },
   "outputs": [
    {
     "data": {
      "text/plain": [
       "[('Matt Damon', 18)]"
      ]
     },
     "metadata": {},
     "output_type": "display_data"
    }
   ],
   "source": [
    "answers['16'] = 'Matt Damon'\n",
    "# +\n",
    "c = Counter()\n",
    "data = pd.read_csv('movie_bd_v5.csv')\n",
    "movie_max = data[data.budget > data.budget.mean()]\n",
    "for i in movie_max['cast'].str.cat(sep='|').split('|'):\n",
    "    c[i] += 1\n",
    "display(c.most_common(1))"
   ]
  },
  {
   "cell_type": "markdown",
   "metadata": {
    "colab_type": "text",
    "id": "NIh6AaW5Vp_n"
   },
   "source": [
    "# 17. В фильмах какого жанра больше всего снимался Nicolas Cage? "
   ]
  },
  {
   "cell_type": "code",
   "execution_count": 64,
   "metadata": {
    "colab": {},
    "colab_type": "code",
    "id": "H74SJDIBVp_n"
   },
   "outputs": [
    {
     "data": {
      "text/plain": [
       "[('Action', 17)]"
      ]
     },
     "metadata": {},
     "output_type": "display_data"
    }
   ],
   "source": [
    "answers['17'] = 'Action'\n",
    "# +\n",
    "c = Counter()\n",
    "data = pd.read_csv('movie_bd_v5.csv')\n",
    "actor_nk = data[data.cast.str.contains('Nicolas Cage', na=False)]\n",
    "for i in actor_nk['genres'].str.cat(sep='|').split('|'):\n",
    "    c[i] += 1\n",
    "display(c.most_common(1))"
   ]
  },
  {
   "cell_type": "markdown",
   "metadata": {
    "colab_type": "text",
    "id": "RqOmPRfWVp_q"
   },
   "source": [
    "# 18. Самый убыточный фильм от Paramount Pictures"
   ]
  },
  {
   "cell_type": "code",
   "execution_count": 65,
   "metadata": {
    "colab": {},
    "colab_type": "code",
    "id": "9E_B0Y96Vp_r"
   },
   "outputs": [
    {
     "data": {
      "text/plain": [
       "925    K-19: The Widowmaker\n",
       "Name: original_title, dtype: object"
      ]
     },
     "execution_count": 65,
     "metadata": {},
     "output_type": "execute_result"
    }
   ],
   "source": [
    "answers['18'] = 'K-19: The Widowmaker (tt0267626)'\n",
    "# +\n",
    "data = pd.read_csv('movie_bd_v5.csv')\n",
    "data['profit'] = data['revenue']-data['budget']\n",
    "pp = data[data.production_companies.str.contains('Paramount Pictures', na=False)]\n",
    "pp[pp.profit == pp.profit.min()].original_title"
   ]
  },
  {
   "cell_type": "markdown",
   "metadata": {
    "colab_type": "text",
    "id": "vS8Ur6ddVp_u"
   },
   "source": [
    "# 19. Какой год стал самым успешным по суммарным кассовым сборам?"
   ]
  },
  {
   "cell_type": "code",
   "execution_count": 66,
   "metadata": {
    "colab": {},
    "colab_type": "code",
    "id": "Dnbt4GdIVp_v"
   },
   "outputs": [
    {
     "data": {
      "text/plain": [
       "release_year\n",
       "2015    25449202382\n",
       "Name: revenue, dtype: int64"
      ]
     },
     "metadata": {},
     "output_type": "display_data"
    }
   ],
   "source": [
    "answers['19'] = '2015'\n",
    "# +\n",
    "data = pd.read_csv('movie_bd_v5.csv')\n",
    "data['profit'] = data['revenue']-data['budget']\n",
    "year = data.groupby('release_year').revenue.sum()\n",
    "display(year[year == year.max()])"
   ]
  },
  {
   "cell_type": "markdown",
   "metadata": {
    "colab_type": "text",
    "id": "JAzJh4QAVp_z"
   },
   "source": [
    "# 20. Какой самый прибыльный год для студии Warner Bros?"
   ]
  },
  {
   "cell_type": "code",
   "execution_count": 67,
   "metadata": {
    "colab": {},
    "colab_type": "code",
    "id": "wgVu02DEVp_0"
   },
   "outputs": [
    {
     "data": {
      "text/plain": [
       "release_year\n",
       "2014    2295464519\n",
       "Name: profit, dtype: int64"
      ]
     },
     "metadata": {},
     "output_type": "display_data"
    }
   ],
   "source": [
    "answers['20'] = '2014'\n",
    "#+\n",
    "data = pd.read_csv('movie_bd_v5.csv')\n",
    "data['profit'] = data['revenue']-data['budget']\n",
    "wb = data[data.production_companies.str.contains('Warner Bros', na=False)]\n",
    "year_wb = wb.groupby('release_year').profit.sum()\n",
    "display(year_wb[year_wb == year_wb.max()])"
   ]
  },
  {
   "cell_type": "markdown",
   "metadata": {
    "colab_type": "text",
    "id": "8Im1S2HRVp_4"
   },
   "source": [
    "# 21. В каком месяце за все годы суммарно вышло больше всего фильмов?"
   ]
  },
  {
   "cell_type": "code",
   "execution_count": 68,
   "metadata": {
    "colab": {},
    "colab_type": "code",
    "id": "lev6TH7gVp_4"
   },
   "outputs": [
    {
     "data": {
      "text/plain": [
       "'9'"
      ]
     },
     "metadata": {},
     "output_type": "display_data"
    }
   ],
   "source": [
    "answers['21'] = 'Сентябрь'\n",
    "# +\n",
    "data = pd.read_csv('movie_bd_v5.csv')\n",
    "data['release_date_temp'] = data['release_date'].apply(lambda x: x.split('/'))\n",
    "data['release_date_temp'] = data['release_date_temp'].apply(lambda x: x[0])\n",
    "month = data.groupby('release_date_temp').original_title.count().sort_values(ascending=False)\n",
    "display(month[month == month.max()].index[0])"
   ]
  },
  {
   "cell_type": "markdown",
   "metadata": {
    "colab_type": "text",
    "id": "uAJsZ_NeVp_7"
   },
   "source": [
    "# 22. Сколько суммарно вышло фильмов летом? (за июнь, июль, август)"
   ]
  },
  {
   "cell_type": "code",
   "execution_count": 70,
   "metadata": {
    "colab": {},
    "colab_type": "code",
    "id": "Aa-hEREoVp_8"
   },
   "outputs": [
    {
     "data": {
      "text/plain": [
       "450"
      ]
     },
     "execution_count": 70,
     "metadata": {},
     "output_type": "execute_result"
    }
   ],
   "source": [
    "answers['22'] = '450'\n",
    "# +\n",
    "data = pd.read_csv('movie_bd_v5.csv')\n",
    "data['profit'] = data['revenue']-data['budget']\n",
    "data['release_date_temp'] = data['release_date'].apply(lambda x: x.split('/'))\n",
    "data['release_date_temp'] = data['release_date_temp'].apply(lambda x: x[0])\n",
    "data[data['release_date_temp'].isin(['6','7','8'])].original_title.count()"
   ]
  },
  {
   "cell_type": "markdown",
   "metadata": {
    "colab_type": "text",
    "id": "G94ppOY1VqAA"
   },
   "source": [
    "# 23. Для какого режиссера зима – самое продуктивное время года? "
   ]
  },
  {
   "cell_type": "code",
   "execution_count": 71,
   "metadata": {
    "colab": {},
    "colab_type": "code",
    "id": "RhNTsamuVqAB"
   },
   "outputs": [
    {
     "data": {
      "text/plain": [
       "[('Peter Jackson', 7)]"
      ]
     },
     "metadata": {},
     "output_type": "display_data"
    }
   ],
   "source": [
    "answers['23'] = 'Peter Jackson'\n",
    "#+\n",
    "c = Counter()\n",
    "data = pd.read_csv('movie_bd_v5.csv')\n",
    "data['release_date_temp'] = data['release_date'].apply(lambda x: x.split('/'))\n",
    "data['release_date_temp'] = data['release_date_temp'].apply(lambda x: x[0])\n",
    "winter_month = data[data['release_date_temp'].isin(['1','2','12'])]\n",
    "for i in winter_month['director'].str.cat(sep='|').split('|'):\n",
    "    c[i] += 1\n",
    "display(c.most_common(1))"
   ]
  },
  {
   "cell_type": "markdown",
   "metadata": {
    "colab_type": "text",
    "id": "K7L3nbRXVp-X"
   },
   "source": [
    "ВАРИАНТ 2"
   ]
  },
  {
   "cell_type": "code",
   "execution_count": 94,
   "metadata": {
    "colab": {},
    "colab_type": "code",
    "id": "RhNTsamuVqAB"
   },
   "outputs": [
    {
     "data": {
      "text/plain": [
       "director\n",
       "Peter Jackson        7\n",
       "Steven Soderbergh    6\n",
       "Clint Eastwood       6\n",
       "Nancy Meyers         4\n",
       "Adam Shankman        4\n",
       "Name: release_date_temp, dtype: int64"
      ]
     },
     "execution_count": 94,
     "metadata": {},
     "output_type": "execute_result"
    }
   ],
   "source": [
    "answers['23'] = 'Peter Jackson'\n",
    "#+\n",
    "c = Counter()\n",
    "data = pd.read_csv('movie_bd_v5.csv')\n",
    "data['release_date_temp'] = data['release_date'].apply(lambda x: x.split('/'))\n",
    "data['release_date_temp'] = data['release_date_temp'].apply(lambda x: x[0])\n",
    "df_temp = data.explode('director')\n",
    "df_temp = df_temp[df_temp['release_date_temp'].isin(['1','2','12'])]\n",
    "df_temp.groupby('director').release_date_temp.count().sort_values(ascending=False).head(5)"
   ]
  },
  {
   "cell_type": "markdown",
   "metadata": {
    "colab_type": "text",
    "id": "RBo0JVjVVqAF"
   },
   "source": [
    "# 24. Какая студия дает самые длинные названия своим фильмам по количеству символов?"
   ]
  },
  {
   "cell_type": "code",
   "execution_count": 90,
   "metadata": {
    "colab": {},
    "colab_type": "code",
    "id": "QRGS8L0iVqAG"
   },
   "outputs": [
    {
     "data": {
      "text/plain": [
       "1448                   Four By Two Productions\n",
       "1448    Twentieth Century Fox Film Corporation\n",
       "Name: production_companies_temp, dtype: object"
      ]
     },
     "execution_count": 90,
     "metadata": {},
     "output_type": "execute_result"
    }
   ],
   "source": [
    "answers['24'] = 'Four By Two Productions'\n",
    "# +\n",
    "data = pd.read_csv('movie_bd_v5.csv')\n",
    "data['original_title_temp'] = data['original_title'].apply(len)\n",
    "data['production_companies_temp'] = data['production_companies'].apply(lambda x: x.split('|'))\n",
    "df_temp = data.explode('production_companies_temp')\n",
    "df_temp[df_temp['original_title_temp'] == df_temp['original_title_temp']\n",
    "        .max()].production_companies_temp.sort_values()"
   ]
  },
  {
   "cell_type": "markdown",
   "metadata": {
    "colab_type": "text",
    "id": "9G0hbvR7VqAK"
   },
   "source": [
    "# 25. Описание фильмов какой студии в среднем самые длинные по количеству слов?"
   ]
  },
  {
   "cell_type": "code",
   "execution_count": 79,
   "metadata": {
    "colab": {},
    "colab_type": "code",
    "id": "Ge2GsLNxVqAK"
   },
   "outputs": [
    {
     "data": {
      "text/plain": [
       "production_companies_temp\n",
       "Midnight Picture Show    175.0\n",
       "Name: overview_temp, dtype: float64"
      ]
     },
     "execution_count": 79,
     "metadata": {},
     "output_type": "execute_result"
    }
   ],
   "source": [
    "answers['25'] = 'Midnight Picture Show'\n",
    "#+\n",
    "data = pd.read_csv('movie_bd_v5.csv')\n",
    "data['profit'] = data['revenue']-data['budget']\n",
    "data['production_companies_temp'] = data['production_companies'].apply(lambda x: x.split('|'))\n",
    "data['overview_temp'] = data['overview'].apply(lambda x: x.split()).apply(len)\n",
    "df_temp = data.explode('production_companies_temp')\n",
    "prod_comp = df_temp.groupby('production_companies_temp').overview_temp.mean()\n",
    "prod_comp[prod_comp == prod_comp.max()]"
   ]
  },
  {
   "cell_type": "markdown",
   "metadata": {
    "colab_type": "text",
    "id": "FJ1AFt90VqAP"
   },
   "source": [
    "# 26. Какие фильмы входят в 1 процент лучших по рейтингу? \n",
    "по vote_average"
   ]
  },
  {
   "cell_type": "code",
   "execution_count": 74,
   "metadata": {
    "colab": {},
    "colab_type": "code",
    "id": "8qmJVq4CVqAQ"
   },
   "outputs": [
    {
     "data": {
      "text/plain": [
       "599                                   The Dark Knight\n",
       "118                                      Interstellar\n",
       "125                                The Imitation Game\n",
       "9                                          Inside Out\n",
       "34                                               Room\n",
       "1183                          The Wolf of Wall Street\n",
       "128                                         Gone Girl\n",
       "1191                                 12 Years a Slave\n",
       "119                           Guardians of the Galaxy\n",
       "1081    The Lord of the Rings: The Return of the King\n",
       "1800                                          Memento\n",
       "370                                         Inception\n",
       "872                                       The Pianist\n",
       "138                          The Grand Budapest Hotel\n",
       "1188                                              Her\n",
       "28                                          Spotlight\n",
       "124                                        Big Hero 6\n",
       "177                            The Fault in Our Stars\n",
       "Name: original_title, dtype: object"
      ]
     },
     "execution_count": 74,
     "metadata": {},
     "output_type": "execute_result"
    }
   ],
   "source": [
    "answers['26'] = 'Inside Out, The Dark Knight, 12 Years a Slave'  \n",
    "# +\n",
    "data = pd.read_csv('movie_bd_v5.csv')\n",
    "one_percent = int(len(data.original_title)/100)\n",
    "movies = data.sort_values('vote_average', \n",
    "                          ascending=False).original_title.head(one_percent)\n",
    "movies"
   ]
  },
  {
   "cell_type": "markdown",
   "metadata": {
    "colab_type": "text",
    "id": "MdXsUXbCVqAV"
   },
   "source": [
    "# 27. Какие актеры чаще всего снимаются в одном фильме вместе?\n"
   ]
  },
  {
   "cell_type": "code",
   "execution_count": 91,
   "metadata": {
    "colab": {},
    "colab_type": "code",
    "id": "8qmJVq4CVqAQ"
   },
   "outputs": [],
   "source": [
    "answers['27'] = 'Daniel Radcliffe & Rupert Grint'\n",
    "#+\n",
    "'''ВНИМАНИЕ! Код работает, но очень долго (4-5часов)'''\n",
    "import pandas as pd\n",
    "import collections\n",
    "'''В исходной таблице преобразуем в столбце cast строки с ФИО артистов в соответствующие списки\n",
    "и затем \"расширяем\" исходную таблицу, сопоставляя с каждым ФИО информацию по каждому фильму. \n",
    "После чего, создаем сводную таблицу, где строки - фильмы, столбцы - артисты, \n",
    "в ячейках: 1 - если актер учавствует в фильме, NaN - если нет. Из сводной таблицы удаляем актеров, \n",
    "которые учавстовали только в одном фильме'''\n",
    "data = pd.read_csv('movie_bd_v5.csv')\n",
    "data['cast'] = data['cast'].apply(lambda x: x.split('|'))\n",
    "data = data.explode('cast')\n",
    "pivot = data.pivot_table(columns='cast',\n",
    "                         index='original_title',\n",
    "                         values='imdb_id',\n",
    "                         aggfunc='count',\n",
    "                         margins=True)\n",
    "for pivot_column in (range(pivot.shape[1]-1, -1, -1)):\n",
    "    if pivot.iloc[pivot.shape[0]-1][pivot_column] == 1:\n",
    "        pivot = pivot.drop(pivot.columns[pivot_column], axis='columns')\n",
    "pivot['All'] = 0\n",
    "pivot['All'] = pivot.sum(axis=1)\n",
    "'''В сводной таблице для каждого исследуемого актера (actor1, цикл x по столбцам) для каждого фильма \n",
    "(цикл y по строкам) находим актера, снимавшегося в фильме (actor2, цикл z по столбцам) и составляем пару\n",
    "с исследуемым актером. Поиск в цикле z прекращается, когда для фильма найдены все actor2,  \n",
    "в цикле y - когда просмотрены все фильмы, в которых снимался actor1. \n",
    "Результаты поиска по фильму добавляются в frame_yz. По окончанию цикла y в таблице frame_yz \n",
    "получаем сведения о всех парах актеров во всех фильмах, в которых снимался actor1. Если frame_yz содержит \n",
    "только уникальные пары, то сведения о них нам не нужны, таблицу очищаем и запускаем новый цикл по x, \n",
    "в ином случае информаци передается в итоговую таблицу frame_x и frame_yz очищается для следующго цикла по x'''\n",
    "frame_x = pd.DataFrame(columns=['actor1', 'actor2', 'row'])\n",
    "frame_yz = pd.DataFrame(columns=['actor1', 'actor2', 'row'])\n",
    "for x in (range(0, pivot.shape[1]-2)):\n",
    "    print('Актер: ', pivot.columns[x], x+1, 'из', pivot.shape[1]) # маркер, чтобы видеть работу программы\n",
    "    for y in (range(0, pivot.shape[0]-1)):\n",
    "        if pivot.iloc[y][x] != 1:\n",
    "            continue\n",
    "        count = 0\n",
    "        for z in (range(x+1, pivot.shape[1]-3)):\n",
    "            if pivot.iloc[y][z] == 1:\n",
    "                temp = pd.DataFrame([[pivot.columns[x], pivot.columns[z], y]],\n",
    "                                    columns=['actor1', 'actor2', 'row'])\n",
    "                count += 1\n",
    "                frame_yz = pd.concat([frame_yz, temp], ignore_index=True)\n",
    "                if count == pivot.iloc[y][pivot.shape[1]-1]-1:\n",
    "                    break # найдены все actor2, снимавшиеся в фильме\n",
    "        if pivot.iloc[pivot.shape[0]-1][x] == frame_yz.row.nunique():\n",
    "            break # найдены все фильмы, в которых снимался actor1\n",
    "    if frame_yz.actor2.nunique() == len(frame_yz):\n",
    "        frame_yz = frame_yz.drop(frame_yz.index)\n",
    "    else:\n",
    "        frame_x = frame_x.append(frame_yz)\n",
    "        frame_yz = frame_yz.drop(frame_yz.index)\n",
    "'''Объединяем каждую пару из frame_x в одно значение, заносим в словарь и осуществляем подсчет количества'''\n",
    "c = collections.Counter()\n",
    "for y in (range(0, frame_x.shape[0])):\n",
    "    x = frame_x.iloc[y][0] + ' | ' + frame_x.iloc[y][1]\n",
    "    c[x] += 1\n",
    "c.most_common(5)"
   ]
  },
  {
   "cell_type": "markdown",
   "metadata": {
    "colab_type": "text",
    "id": "4ymnxEVoVqAW"
   },
   "source": [
    "ВАРИАНТ 2"
   ]
  },
  {
   "cell_type": "code",
   "execution_count": null,
   "metadata": {},
   "outputs": [],
   "source": [
    "'''Задача решается гораздо быстрее и эффективней с помощью combinations из itertools. \n",
    "Но в процессе обсуждения задачи в соответствующем канале Slack были продемонстрированы \n",
    "варианты готовых решений, в связи с чем, разместить их от своего имени считаю не корректным.'''"
   ]
  },
  {
   "cell_type": "markdown",
   "metadata": {
    "colab_type": "text",
    "id": "U0nONFnGVqAX"
   },
   "source": [
    "# Submission"
   ]
  },
  {
   "cell_type": "code",
   "execution_count": 106,
   "metadata": {
    "colab": {},
    "colab_type": "code",
    "id": "IfcaRO9-VqAX",
    "outputId": "0f132912-32bb-4196-c98c-abfbc4ad5a5f"
   },
   "outputs": [
    {
     "data": {
      "text/plain": [
       "{'13': 'Peter Jackson',\n",
       " '15': 'Chris Hemsworth',\n",
       " '16': 'Matt Damon',\n",
       " '18': 'K-19: The Widowmaker (tt0267626)',\n",
       " '17': 'Action',\n",
       " '19': '2015',\n",
       " '20': '2014',\n",
       " '21': 'Сентябрь',\n",
       " '22': '450',\n",
       " '23': 'Peter Jackson',\n",
       " '24': 'Four By Two Productions',\n",
       " '25': 'Midnight Picture Show',\n",
       " '26': 'Inside Out, The Dark Knight, 12 Years a Slave',\n",
       " '1': 'Pirates of the Caribbean: On Stranger Tides (tt1298650)',\n",
       " '2': 'Gods and Generals (tt0279111)',\n",
       " '3': 'Winnie the Pooh (tt1449283)',\n",
       " '4': '110',\n",
       " '5': '107',\n",
       " '6': 'Avatar (tt0499549)',\n",
       " '7': 'The Lone Ranger (tt1210819)',\n",
       " '8': '1478',\n",
       " '9': 'The Dark Knight (tt0468569)',\n",
       " '10': 'The Lone Ranger (tt1210819)',\n",
       " '11': 'Drama',\n",
       " '12': 'Drama',\n",
       " '14': 'Robert Rodriguez',\n",
       " '27': 'Daniel Radcliffe & Rupert Grint'}"
      ]
     },
     "execution_count": 106,
     "metadata": {},
     "output_type": "execute_result"
    }
   ],
   "source": [
    "# в конце можно посмотреть свои ответы к каждому вопросу\n",
    "answers"
   ]
  },
  {
   "cell_type": "code",
   "execution_count": 92,
   "metadata": {
    "colab": {},
    "colab_type": "code",
    "id": "SiRmHPl8VqAd"
   },
   "outputs": [
    {
     "data": {
      "text/plain": [
       "27"
      ]
     },
     "execution_count": 92,
     "metadata": {},
     "output_type": "execute_result"
    }
   ],
   "source": [
    "# и убедиться что ни чего не пропустил)\n",
    "len(answers)"
   ]
  },
  {
   "cell_type": "code",
   "execution_count": null,
   "metadata": {
    "colab": {},
    "colab_type": "code",
    "id": "uCfuTkRbVqAg"
   },
   "outputs": [],
   "source": []
  },
  {
   "cell_type": "code",
   "execution_count": 105,
   "metadata": {
    "colab": {},
    "colab_type": "code",
    "id": "Vwx3NrkSVqAl"
   },
   "outputs": [],
   "source": []
  },
  {
   "cell_type": "code",
   "execution_count": null,
   "metadata": {},
   "outputs": [],
   "source": []
  }
 ],
 "metadata": {
  "colab": {
   "name": "Copy of [SF-DST] Movies IMBD v4.1 TEMPLATE.ipynb",
   "provenance": []
  },
  "kernelspec": {
   "display_name": "Python 3",
   "language": "python",
   "name": "python3"
  },
  "language_info": {
   "codemirror_mode": {
    "name": "ipython",
    "version": 3
   },
   "file_extension": ".py",
   "mimetype": "text/x-python",
   "name": "python",
   "nbconvert_exporter": "python",
   "pygments_lexer": "ipython3",
   "version": "3.7.6"
  }
 },
 "nbformat": 4,
 "nbformat_minor": 1
}
